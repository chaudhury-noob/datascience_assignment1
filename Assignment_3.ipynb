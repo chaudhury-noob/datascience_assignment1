{
 "cells": [
  {
   "cell_type": "code",
   "execution_count": null,
   "metadata": {},
   "outputs": [],
   "source": [
    "import numpy as np"
   ]
  },
  {
   "cell_type": "code",
   "execution_count": 23,
   "metadata": {},
   "outputs": [
    {
     "data": {
      "text/plain": [
       "array([ 2,  5,  8, 11, 14, 17, 20, 23, 26, 29, 32, 35, 38, 41, 44, 47, 50])"
      ]
     },
     "execution_count": 23,
     "metadata": {},
     "output_type": "execute_result"
    }
   ],
   "source": [
    "# Q1. Program to create a numpy array starting from 2 till 50 with stepsize of 3\n",
    "\n",
    "arr= np.arange(2,51,3)\n",
    "arr"
   ]
  },
  {
   "cell_type": "code",
   "execution_count": 7,
   "metadata": {},
   "outputs": [
    {
     "name": "stdout",
     "output_type": "stream",
     "text": [
      "Enter 5 list elements in list1 : \n",
      "2\n",
      "4\n",
      "2\n",
      "3\n",
      "5\n",
      "Enter 5 list elements in list2 : \n",
      "6\n",
      "3\n",
      "1\n",
      "5\n",
      "2\n",
      "[2, 4, 2, 3, 5] [6, 3, 1, 5, 2]\n",
      "Concatenating arrays:  [2 4 2 3 5 6 3 1 5 2]\n",
      "Sorted arrays are :\n",
      " [2 2 3 4 5] \n",
      " [1 2 3 5 6]\n"
     ]
    }
   ],
   "source": [
    "#Q2. accept two list and convert it to numpy arrays. conatenate , sort arrays and print\n",
    "lst1=[]\n",
    "lst2=[]\n",
    "print( \"Enter 5 list elements in list1 : \")\n",
    "for i in range(0,5):\n",
    "    ele=int(input())\n",
    "    lst1.append(ele)\n",
    "\n",
    "print( \"Enter 5 list elements in list2 : \")\n",
    "for i in range(0,5):\n",
    "    ele=int(input())\n",
    "    lst2.append(ele)\n",
    "print(lst1,lst2)\n",
    "\n",
    "#convert list to array\n",
    "arr1=np.array(lst1)\n",
    "arr2=np.array(lst2)\n",
    "\n",
    "# concatenating arrays\n",
    "arr=np.concatenate((arr1, arr2))\n",
    "print(\"Concatenating arrays: \",arr)\n",
    "\n",
    "#sorting arrays\n",
    "print(\"Sorted arrays are :\\n\",np.sort(arr1), \"\\n\", np.sort(arr2))"
   ]
  },
  {
   "cell_type": "code",
   "execution_count": 13,
   "metadata": {},
   "outputs": [
    {
     "name": "stdout",
     "output_type": "stream",
     "text": [
      "(2, 3) 6\n"
     ]
    }
   ],
   "source": [
    "# Q3. code to find the dimension of a ndarray and its size\n",
    "\n",
    "arr=np.array([[1,2,3],[1,2,3]])\n",
    "\n",
    "arr.shape  #code to find the dimension of array\n",
    "arr.size   #code find the size the size of array\n",
    "print(arr.shape, arr.size)"
   ]
  },
  {
   "cell_type": "code",
   "execution_count": 34,
   "metadata": {},
   "outputs": [
    {
     "name": "stdout",
     "output_type": "stream",
     "text": [
      "1D array : \n",
      " [ 1  2  3  4  5  6  7  8  9 10 11 12] \n",
      " 2D array :\n",
      " [[ 1  2  3  4]\n",
      " [ 5  6  7  8]\n",
      " [ 9 10 11 12]]\n"
     ]
    }
   ],
   "source": [
    "# Q4.Code to convert 1D array to 2D array with examples\n",
    "\n",
    "#using .reshape() we can convert 1D array to 2D array. Eg-\n",
    "\n",
    "arr=np.array([1,2,3,4,5,6,7,8,9,10,11,12]) #1D array\n",
    "two_D=arr.reshape(3,4)\n",
    "print(\"1D array : \\n\", arr, \"\\n 2D array :\\n\", two_D )"
   ]
  },
  {
   "cell_type": "code",
   "execution_count": 33,
   "metadata": {},
   "outputs": [
    {
     "name": "stdout",
     "output_type": "stream",
     "text": [
      "array A: \n",
      " Vertical stacking- \n",
      " [[ 1  2  3  4]\n",
      " [ 5  6  7  8]\n",
      " [ 9 10 11 12]\n",
      " [13 14 15 16]] \n",
      "Horizontal stacking-  [ 1  2  3  4  5  6  7  8  9 10 11 12 13 14 15 16]\n",
      "array B: \n",
      " Vertical stacking- \n",
      " [[ 1  2  3  4]\n",
      " [ 5  6  7  8]\n",
      " [ 9 10 11 12]\n",
      " [13 14 15 16]] \n",
      "Horizontal stacking-  [ 1  2  3  4  5  6  7  8  9 10 11 12 13 14 15 16]\n"
     ]
    }
   ],
   "source": [
    "#Q5. stack two square numpy arrays vertically and horizontally\n",
    "\n",
    "A=np.array([ [1,2,3,4],[5,6,7,8],[9,10,11,12],[13,14,15,16] ])\n",
    "B=np.array([ [1,2,3,4],[5,6,7,8],[9,10,11,12],[13,14,15,16] ])\n",
    "print(\"array A: \\n Vertical stacking- \\n\",np.vstack(A), \"\\nHorizontal stacking- \", np.hstack(A))\n",
    "print(\"array B: \\n Vertical stacking- \\n\",np.vstack(B), \"\\nHorizontal stacking- \", np.hstack(B))\n"
   ]
  }
 ],
 "metadata": {
  "kernelspec": {
   "display_name": "Python 3",
   "language": "python",
   "name": "python3"
  },
  "language_info": {
   "codemirror_mode": {
    "name": "ipython",
    "version": 3
   },
   "file_extension": ".py",
   "mimetype": "text/x-python",
   "name": "python",
   "nbconvert_exporter": "python",
   "pygments_lexer": "ipython3",
   "version": "3.8.3"
  }
 },
 "nbformat": 4,
 "nbformat_minor": 4
}
