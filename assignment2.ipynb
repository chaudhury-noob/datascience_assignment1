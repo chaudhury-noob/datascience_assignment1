{
 "cells": [
  {
   "cell_type": "raw",
   "metadata": {},
   "source": [
    "Assignment day_2"
   ]
  },
  {
   "cell_type": "code",
   "execution_count": 28,
   "metadata": {},
   "outputs": [
    {
     "name": "stdout",
     "output_type": "stream",
     "text": [
      "enter 10 numbers :\n",
      "1\n",
      "2\n",
      "3\n",
      "4\n",
      "5\n",
      "6\n",
      "7\n",
      "8\n",
      "9\n",
      "13\n",
      "Numbers after appending to list : [2, 4, 6, 8]\n"
     ]
    }
   ],
   "source": [
    "#Q1. create empty list ,accept 10 numbers from user and append it to the list if it is even\n",
    "l=[]\n",
    "print(\"enter 10 numbers :\")\n",
    "for i in range(10):\n",
    "    num=int(input())\n",
    "    if(num%2==0):\n",
    "        l.append(num)\n",
    "print(\"Numbers after appending to list :\", l)"
   ]
  },
  {
   "cell_type": "code",
   "execution_count": 41,
   "metadata": {},
   "outputs": [
    {
     "name": "stdout",
     "output_type": "stream",
     "text": [
      "8\n",
      "1\n",
      "2\n",
      "3\n",
      "4\n",
      "5\n",
      "6\n",
      "7\n",
      "8\n",
      "{1: 1, 2: 4, 3: 9, 4: 16, 5: 25, 6: 36, 7: 49, 8: 64}\n"
     ]
    }
   ],
   "source": [
    "#Q3. Take input \"n\"from user that generate dictionary d={i : i*i} and display the output\n",
    "d={}\n",
    "n=int(input())\n",
    "for i in range(1,n+1):\n",
    "    print(i)\n",
    "    d[i]=(i*i)\n",
    "print(d)    "
   ]
  },
  {
   "cell_type": "code",
   "execution_count": 48,
   "metadata": {},
   "outputs": [
    {
     "name": "stdout",
     "output_type": "stream",
     "text": [
      "3\n",
      "UP :2\n",
      "DOWN :3\n",
      "LEFT :6\n",
      "RIGHT :0\n",
      "6\n"
     ]
    }
   ],
   "source": [
    "#Q4. program to compute the moment from origin to current position takimg value from user\n",
    "import math\n",
    "\n",
    "n=int(input())\n",
    "if(n<=4):\n",
    "    up=int(input(\"UP :\"))\n",
    "    down=int(input(\"DOWN :\"))\n",
    "    left=int(input(\"LEFT :\"))\n",
    "    right=int(input(\"RIGHT :\"))  \n",
    "    vert= abs(up-down)\n",
    "    hor= abs(left-right)\n",
    "    distance= math.sqrt(vert*vert +hor*hor)\n",
    "    print(round(distance))\n",
    "else:\n",
    "    print(\"enter valid distance (less than 4) \")\n",
    "    "
   ]
  },
  {
   "cell_type": "markdown",
   "metadata": {},
   "source": [
    "# Q3. create a notebook on LIST COMPREHENSION \n",
    "\n",
    "List comprehension:\n",
    "\n",
    "A list comprehension is asyntactic construct and elegant way available in programming languages for      creating alist based on existing lists. List comprehension is generally more compact and faster than normal functions and loop for creating list. It consists of brackets containing an expression followed by a for clauses, then zero or more for or if clauses. The result is alist of new list evaluating from the expressions in the context\n",
    "\n",
    "Eg-\n",
    "test=[]\n",
    "for x in [1,2,3]:\n",
    "   for y in [3,4,5]:\n",
    "       if x!=y:\n",
    "         test.append((x,y))\n",
    "print(test)\n",
    "   "
   ]
  }
 ],
 "metadata": {
  "kernelspec": {
   "display_name": "Python 3",
   "language": "python",
   "name": "python3"
  },
  "language_info": {
   "codemirror_mode": {
    "name": "ipython",
    "version": 3
   },
   "file_extension": ".py",
   "mimetype": "text/x-python",
   "name": "python",
   "nbconvert_exporter": "python",
   "pygments_lexer": "ipython3",
   "version": "3.8.3"
  }
 },
 "nbformat": 4,
 "nbformat_minor": 4
}
